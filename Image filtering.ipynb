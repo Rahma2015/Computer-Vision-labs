{
 "cells": [
  {
   "cell_type": "markdown",
   "metadata": {},
   "source": [
    "# Image Filtering\n",
    "## Linear filtering\n",
    "Correlation (in literature it is used as colvolution)\n",
    "$$g(i, j) = \\sum_{k}^{K} \\sum_{l}^{L} I(i + k, j + l)*h(k, l)$$\n",
    "* $I(x, y)$ is the image intensity at the pixel of corrdinates $(x, y)$\n",
    "* $h(k, l)$ is the filter used which is called *kernel*\n",
    "* $K$ is the kernel length\n",
    "* $L$ is the kernel width\n",
    "* $i, j$ is the *anchor*, the pixel that we are calculating the correlation for\n",
    "\n",
    "### What should we do at the borders?\n",
    "For example what should we do at pixel (0, 0)? There is not enough data around the pixel to apply the whole filter. We do one of the following:\n",
    "For sake of simplicity imagine that a row in the image is `|1, 2, 3, 4|`\n",
    "* Constant border: pad the borders of the image with some constant, can be zero, 255 or other, for example `1, 1|1, 2, 3, 4|1, 1`\n",
    "* Replicate: pad the borders of the image with the last pixel value `1, 1|1, 2, 3, 4|4, 4`\n",
    "* Reflect: pad the borders with a reflection of the row, `2, 1|1, 2, 3, 4|4, 3`\n",
    "* Wrap around: `3, 4|1, 2, 3, 4|1, 2`\n",
    "Check OpenCV border types https://docs.opencv.org/master/d2/de8/group__core__array.html#ga209f2f4869e304c82d07739337eae7c5\n",
    "\n",
    "### Why linear filters are called linear?\n",
    "Several computer vision applications are composed of step by step transformations of an input photo to output. This is easily done due to several properties associated with a common type of filters, that is, linear filters:\n",
    "\n",
    "* The linear filters are commutative such that we can perform multiplication operations on filters in any order and the result still remains the same: $$a * b = b * a$$\n",
    "* They are associative in nature, which means the order of applying the filter does not affect the outcome: $$(a * b) * c = a* (b * c)$$\n",
    "* Even in cases of summing two filters, we can perform the first summation and then apply the filter, or we can also individually apply the filter and then sum the results. The overall outcome still remains the same:\n"
   ]
  },
  {
   "cell_type": "code",
   "execution_count": 49,
   "metadata": {},
   "outputs": [],
   "source": [
    "from scipy.signal import convolve2d, correlate2d\n",
    "import numpy as np\n",
    "import cv2"
   ]
  },
  {
   "cell_type": "code",
   "execution_count": 50,
   "metadata": {},
   "outputs": [],
   "source": [
    "import cv2\n",
    "def visualize_image(figure_name: str, img: np.ndarray):\n",
    "    cv2.imshow(figure_name, img)\n",
    "    cv2.waitKey(0)\n",
    "    cv2.destroyAllWindows()"
   ]
  },
  {
   "cell_type": "code",
   "execution_count": 51,
   "metadata": {},
   "outputs": [],
   "source": [
    "def show_images(images, titles):\n",
    "    #This function is used to show image(s) with titles by sending an array of images and an array of associated titles.\n",
    "    # images[0] will be drawn with the title titles[0] if exists\n",
    "    # You aren't required to understand this function, use it as-is.\n",
    "    assert len(images) == len(titles)\n",
    "    for title in titles:\n",
    "        cv2.namedWindow(title, cv2.WINDOW_NORMAL)\n",
    "    \n",
    "    for title, img in zip(titles, images):\n",
    "        cv2.imshow(title, img)\n",
    "\n",
    "    cv2.waitKey(0)\n",
    "    cv2.destroyAllWindows()\n",
    "\n",
    "# How to use show_images([list of images], [list of titles]) They must have the same length\n",
    "# show_images([img1, img2], ['This is image 1', 'This is image 2'])"
   ]
  },
  {
   "cell_type": "code",
   "execution_count": 84,
   "metadata": {},
   "outputs": [],
   "source": [
    "from matplotlib import pyplot as plt\n",
    "import cv2\n",
    "#img = cv2.imread('/Desktop/LABSSSSSSSSSSSSSS/lab3-image filtering/assets/bird.jpg')\n",
    "img = cv2.imread('C:/Users/HP 2019/Desktop/LABSSSSSSSSSSSSSS/lab3-image filtering/assets/original.png')\n",
    "visualize_image('original', img)\n",
    "grey_image = cv2.cvtColor(img, cv2.COLOR_BGR2GRAY)\n",
    "#Box filtering is basically an average-of-surrounding-pixel kind of image filtering"
   ]
  },
  {
   "cell_type": "markdown",
   "metadata": {},
   "source": [
    "### Box filter\n",
    "This filter is the simplest of all! Each output pixel is the mean of its kernel neighbors ( all of them contribute with equal weights)\n",
    "$$K = \\frac{1}{K_{width} * K_{length}} * \\begin{bmatrix} 1 & 1 & \\cdots & 1\\\\ 1&1&\\vdots&1 \\\\ 1 & 1 & \\cdots & 1 \\end{bmatrix}$$\n",
    "\n",
    "It is used to filter the random noise in the image based on a simple idea, if one pixel has a random noise added then we can interpolate (average in our case) its value from the local neighbourhood.\n",
    "\n",
    "What is the downside? it creates artifacts in the image! why? because it \n",
    "\n",
    "in OpenCV we can apply mean filter to image using `cv2.blur()` https://docs.opencv.org/master/d4/d86/group__imgproc__filter.html#ga8c45db9afe636703801b0b2e440fce37"
   ]
  },
  {
   "cell_type": "code",
   "execution_count": 12,
   "metadata": {},
   "outputs": [],
   "source": [
    "# TODO: Use the blur function to test the effect of the box filter \n",
    "#cv2.blur() ----> Blurs an image using the normalized BOX  filter. \n",
    "# with different kernel sizes\n",
    "# Visualize the original image with 3 blurred images at different sizes\n",
    "#mean_blur_img1 = cv2.blur(img, ksize=(5, 5), borderType=cv2.BORDER_CONSTANT)\n",
    "#visualize_image('Mean blur', mean_blur_img1)\n",
    "\n",
    "#MY CODE \n",
    "\n",
    "#1-First blurring:\n",
    "mean_blur_img1 = cv2.blur(img, ksize=(3, 3), borderType=cv2.BORDER_CONSTANT)\n",
    "visualize_image('Mean blur_img1', mean_blur_img1)\n",
    "\n",
    "\n",
    "#2-Second blurring:\n",
    "mean_blur_img2 = cv2.blur(img, ksize=(5, 5), borderType=cv2.BORDER_CONSTANT)\n",
    "visualize_image('mean_blur_img2', mean_blur_img2)\n",
    "\n",
    "#3-Third blurring:\n",
    "mean_blur_img3 = cv2.blur(img, ksize=(7, 7), borderType=cv2.BORDER_CONSTANT)\n",
    "visualize_image('Mean blur_img3', mean_blur_img3)\n",
    "\n",
    "\n"
   ]
  },
  {
   "cell_type": "markdown",
   "metadata": {},
   "source": [
    "### Gaussian filter\n",
    "Probably one of the most useful filters (although not the fastest). Gaussian filtering is done by convolving each point in the input array with a *Gaussian kernel* and then summing them all to produce the output array.\n",
    "\n",
    "$$G(x, y) = A e^{\\frac{-(x - \\mu_x)^2}{2 \\sigma_x^2} + \\frac{-(y - \\mu_y)^2}{2 \\sigma_y^2}}$$\n",
    "* $G(x, y)$ is the Gaussian kernel\n",
    "* $\\mu$ is the mean \n",
    "* $\\sigma^2$ is the variance \n",
    "The mean and variance are each per variable and we have 2 $(x, y)$\n",
    "\n",
    "In OpenCV we can apply Gaussian filter to image using `cv2.GaussianBlur()`\n",
    "https://docs.opencv.org/master/d4/d86/group__imgproc__filter.html#gaabe8c836e97159a9193fb0b11ac52cf1\n",
    "\n",
    "`cv2.GaussianBlur()` has two main parameters\n",
    "* ksize: Kernal size\n",
    "* SigmaX, SigmaY: \n",
    "As a rule of thumb as stated in the lecture set filter half width to about $3\\sigma$\n",
    "To see the effect of changing the kernel size and sigma try it out\n",
    "http://dev.theomader.com/gaussian-kernel-calculator/"
   ]
  },
  {
   "cell_type": "code",
   "execution_count": 13,
   "metadata": {},
   "outputs": [],
   "source": [
    "import cv2\n",
    "# TODO: Use the GaussianBlur function to test the blurring effect \n",
    "# with different kernel sizes and sigmas \n",
    "# Visualize the original image with 3 blurred images at different sizes\n",
    "gaussian_blur_img1_with_sigma_1 = cv2.GaussianBlur(img, ksize=(3, 3), sigmaX=1, sigmaY=1, borderType=cv2.BORDER_CONSTANT)\n",
    "visualize_image('gaussian_blur_img1_with_sigma_1', gaussian_blur_img1_with_sigma_1)\n",
    "#increasing SIGMA value with same kernel size(3,3):\n",
    "gaussian_blur_img1_with_sigma_3 = cv2.GaussianBlur(img, ksize=(3, 3), sigmaX=3, sigmaY=3, borderType=cv2.BORDER_CONSTANT)\n",
    "visualize_image('gaussian_blur_img1_with_sigma_3', gaussian_blur_img1_with_sigma_3)\n",
    "\n",
    "gaussian_blur_img1_with_sigma_6 = cv2.GaussianBlur(img, ksize=(3, 3), sigmaX=6, sigmaY=6, borderType=cv2.BORDER_CONSTANT)\n",
    "visualize_image('gaussian_blur_img1_with_sigma_6', gaussian_blur_img1_with_sigma_6)\n",
    "#.............................................\n",
    "gaussian_blur_img2_with_sigma_1 = cv2.GaussianBlur(img, ksize=(5, 5), sigmaX=1, sigmaY=1, borderType=cv2.BORDER_CONSTANT)\n",
    "visualize_image('gaussian_blur_img2_with_sigma_1', gaussian_blur_img2_with_sigma_1)\n",
    "#increasing SIGMA value with same kernel size(5,5):\n",
    "\n",
    "gaussian_blur_img2_with_sigma_3 = cv2.GaussianBlur(img, ksize=(5, 5), sigmaX=3, sigmaY=3, borderType=cv2.BORDER_CONSTANT)\n",
    "visualize_image('gaussian_blur_img2_with_sigma_3', gaussian_blur_img2_with_sigma_3)\n",
    "gaussian_blur_img2_with_sigma_6 = cv2.GaussianBlur(img, ksize=(5, 5), sigmaX=6, sigmaY=6, borderType=cv2.BORDER_CONSTANT)\n",
    "visualize_image('gaussian_blur_img2_with_sigma_6', gaussian_blur_img2_with_sigma_6)\n",
    "#..............................................................\n",
    "gaussian_blur_img3_with_sigma_1 = cv2.GaussianBlur(img, ksize=(7, 7), sigmaX=1, sigmaY=1, borderType=cv2.BORDER_CONSTANT)\n",
    "visualize_image('gaussian_blur_img3_with_sigma_1', gaussian_blur_img3_with_sigma_1)\n",
    "#increasing SIGMA value with same kernel size(7,7):\n",
    "\n",
    "gaussian_blur_img3_with_sigma_3 = cv2.GaussianBlur(img, ksize=(7, 7), sigmaX=3, sigmaY=3, borderType=cv2.BORDER_CONSTANT)\n",
    "visualize_image('gaussian_blur_img3_with_sigma_3', gaussian_blur_img3_with_sigma_3)\n",
    "gaussian_blur_img3_with_sigma_6 = cv2.GaussianBlur(img, ksize=(7, 7), sigmaX=6, sigmaY=6, borderType=cv2.BORDER_CONSTANT)\n",
    "visualize_image('gaussian_blur_img3_with_sigma_6', gaussian_blur_img3_with_sigma_6)\n",
    "\n",
    "#.................................................................\n",
    "#Comparing image with smaller kernel size (3,3) and sigma (1,1) vs image with heigher kernel size(7,7) and sigma(6,6)\n",
    "lower_blurring_image_vs_higher_blurring_image = cv2.hconcat((gaussian_blur_img1_with_sigma_1,gaussian_blur_img3_with_sigma_6))\n",
    "name='comparing lower blurring vs higher blurring'\n",
    "\n",
    "cv2.imshow(name,lower_blurring_image_vs_higher_blurring_image)\n",
    "cv2.waitKey(0)\n",
    "cv2.destroyAllWindows()\n",
    "#..............................................................................\n",
    "#Conclusion (Explanation) :\n",
    "\n",
    "#Increasing sigma (variance) && kernel size values will increase blurring..because the distrubution will be accross \n",
    "#bigger part of image and hence more smoothing is applied .\n",
    "\n",
    "#...............................................................................\n",
    "#sources:Gaussian filter:\n",
    "#https://www.youtube.com/watch?v=4RpdOAbnNYE\n",
    "#https://www.youtube.com/watch?v=-AuwMJAqjJc"
   ]
  },
  {
   "cell_type": "markdown",
   "metadata": {},
   "source": [
    "Now lets try to compute the correlation on our own using `correlate2d()`\n",
    "https://docs.scipy.org/doc/scipy-0.15.1/reference/generated/scipy.signal.correlate2d.html"
   ]
  },
  {
   "cell_type": "code",
   "execution_count": 14,
   "metadata": {},
   "outputs": [
    {
     "name": "stdout",
     "output_type": "stream",
     "text": [
      "kernel shape is  (5, 5)\n"
     ]
    }
   ],
   "source": [
    "kernel = np.ones((5, 5), dtype=np.uint8) * (1/25)\n",
    "my_blur = np.array(img)\n",
    "print('kernel shape is ',kernel.shape)\n",
    "visualize_image('kernel figure', kernel)\n",
    "my_blur[:,:,0] = correlate2d(img[:,:,0], kernel, 'same')\n",
    "my_blur[:,:,1] = correlate2d(img[:,:,1], kernel, 'same')\n",
    "my_blur[:,:,2] = correlate2d(img[:,:,2], kernel, 'same')\n",
    "visualize_image('my blur', my_blur)"
   ]
  },
  {
   "cell_type": "code",
   "execution_count": 15,
   "metadata": {},
   "outputs": [],
   "source": [
    "#TODO: Create function to create mean filter for an arbitary size\n",
    "import math\n",
    "import numpy as np\n",
    "def create_mean_filter(ksize):\n",
    "    # Remember to assert that the length is odd\n",
    "    width=math.sqrt(ksize)\n",
    "    width=int(width)\n",
    "    height=width\n",
    "    if(width%2==0):\n",
    "        raise Exception('Error,filter dimensions should be odd !')\n",
    "     \n",
    "    constant=(1/(width*height))\n",
    "    kernel=constant*(np.ones((width,height)))\n",
    "    return kernel"
   ]
  },
  {
   "cell_type": "code",
   "execution_count": 16,
   "metadata": {},
   "outputs": [],
   "source": [
    "######### MY CODE ######################\n",
    "\n",
    "#To test our written mean filter :\n",
    "import math\n",
    "import numpy as np\n",
    "from numpy import pi, exp, sqrt\n",
    "#from skimage import io, img_as_ubyte, img_as_float32\n",
    "#from skimage.transform import rescale\n",
    "import cv2\n",
    "import matplotlib.pyplot as plt\n",
    "\n",
    "def conv(img: np.array, filter: np.array):  \n",
    "    img_rows=img.shape[0]\n",
    "    img_col=img.shape[1]\n",
    "   \n",
    "    filtered_image = np.zeros_like(img)\n",
    "    #rotate filter 90 degrees horizontally and vertically \n",
    "    filter=np.rot90(filter,2)\n",
    "\n",
    "    #To gurantee odd filters\n",
    "    if(((filter.shape[0])%2)==0 or ((filter.shape[1])%2)==0):\n",
    "      #print('Error,filter dimensions should be odd !')\n",
    "      raise Exception('Error,filter dimensions should be odd !,output will be undefined ')\n",
    "    filter_rows=filter.shape[0]\n",
    "    filter_cols=filter.shape[1]\n",
    "    padded_img=np.zeros((img_rows+filter_rows-1,img_col+filter_cols-1))\n",
    "    #padded_img rows R and columns C \n",
    "    padded_img_R=padded_img.shape[0]\n",
    "    padded_img_C=padded_img.shape[1]\n",
    "    padded_img[((filter_rows)//2):padded_img_R-((filter_rows)//2),((filter_cols)//2):padded_img_C-((filter_cols)//2)]=img\n",
    "    for i in range(((filter_rows)//2),padded_img_R-((filter_rows)//2)):\n",
    "        for j in range(((filter_cols)//2),padded_img_C-((filter_cols)//2)):\n",
    "            template=padded_img[i-((filter_rows)//2):(i+((filter_rows)//2)+1),j-((filter_cols)//2):(j+((filter_cols)//2)+1)]\n",
    "            result=template*filter\n",
    "            # element-wise multiplication filter && image\n",
    "            filtered_image[i-((filter_rows)//2),j-((filter_cols)//2)]=result.sum()\n",
    "    name='filtered image'  \n",
    "    print('filtered_image',filtered_image.shape)\n",
    "    #cv2_imshow(filtered_image)\n",
    "    visualize_image(name,filtered_image)\n",
    "\n",
    "    return filtered_image"
   ]
  },
  {
   "cell_type": "code",
   "execution_count": 36,
   "metadata": {},
   "outputs": [],
   "source": [
    "# This function can be implemented using a double loop but since we \n",
    "# have numpy we can try it without loops \n",
    "# check np.meshgrid https://www.geeksforgeeks.org/numpy-meshgrid-function/import numpy as np\n",
    "\"\"\"\n",
    "Implement gaussian filter using for loop and meshgrid\n",
    "\"\"\"\n",
    "#MY CODE :\n",
    "\n",
    "#Implement gaussain filter using for loop \n",
    "import math\n",
    "def create_gaussian_filter(ksize, sigma):\n",
    "    width=math.sqrt(ksize)\n",
    "    width=int(width)\n",
    "    height=width\n",
    "    g=np.zeros((width,height))\n",
    "    \n",
    "    points_x = np.arange((-1*width//2)+1,(width//2)+1)   \n",
    "    points_y=np.arange((-1*width//2)+1,(width//2)+1)\n",
    "            \n",
    "    for x in range(((-1*width//2)+1),((width//2)+1)):\n",
    "        for y in range(((-1*height//2)+1),((height//2)+1)):\n",
    "            g[x+(width//2),y+(height//2)]=(1/(2*math.pi*sigma*sigma))*math.exp((-1*(x*x+y*y))/(2*sigma*sigma))\n",
    "    print('x array =',points_x)   \n",
    "    print('y array =',points_y)                    \n",
    "    return g"
   ]
  },
  {
   "cell_type": "code",
   "execution_count": 37,
   "metadata": {},
   "outputs": [],
   "source": [
    "#MY CODE (Another way to implement gaussain filter using meshgrid) :\n",
    "#meshgrid way:\n",
    "\n",
    "import numpy as np\n",
    "import math\n",
    "def meshgrid_create_gaussian_filter(ksize, sigma):\n",
    "    width=math.sqrt(ksize)\n",
    "    width=int(width)\n",
    "    height=width\n",
    "    g=np.zeros((width,height))\n",
    "    \n",
    "    points_x = np.arange((-1*width//2)+1,(width//2)+1)   \n",
    "    points_y=np.arange((-1*width//2)+1,(width//2)+1)\n",
    "    x,y = np.meshgrid(points_x,points_y)\n",
    "    print('x array =',points_x)\n",
    "    print('y array =',points_y)\n",
    "    print('x',x)\n",
    "    print('y',y)\n",
    "    \n",
    "    constant=(1/(2*np.pi*sigma*sigma))\n",
    "    g=constant*np.exp((-1*(x*x+y*y))/(2*sigma*sigma))\n",
    "    return g\n",
    "    \n",
    "    \n",
    "   "
   ]
  },
  {
   "cell_type": "code",
   "execution_count": 53,
   "metadata": {},
   "outputs": [
    {
     "name": "stdout",
     "output_type": "stream",
     "text": [
      "x array = [-2 -1  0  1  2]\n",
      "y array = [-2 -1  0  1  2]\n"
     ]
    }
   ],
   "source": [
    "#MY CODE \n",
    "#To test create_gaussian_filter fn :\n",
    "g_filter=create_gaussian_filter(25,3)"
   ]
  },
  {
   "cell_type": "code",
   "execution_count": 73,
   "metadata": {},
   "outputs": [
    {
     "name": "stdout",
     "output_type": "stream",
     "text": [
      "x array = [-2 -1  0  1  2]\n",
      "y array = [-2 -1  0  1  2]\n",
      "x [[-2 -1  0  1  2]\n",
      " [-2 -1  0  1  2]\n",
      " [-2 -1  0  1  2]\n",
      " [-2 -1  0  1  2]\n",
      " [-2 -1  0  1  2]]\n",
      "y [[-2 -2 -2 -2 -2]\n",
      " [-1 -1 -1 -1 -1]\n",
      " [ 0  0  0  0  0]\n",
      " [ 1  1  1  1  1]\n",
      " [ 2  2  2  2  2]]\n"
     ]
    },
    {
     "data": {
      "text/plain": [
       "array([[0.01133856, 0.01339492, 0.01416015, 0.01339492, 0.01133856],\n",
       "       [0.01339492, 0.01582423, 0.01672824, 0.01582423, 0.01339492],\n",
       "       [0.01416015, 0.01672824, 0.01768388, 0.01672824, 0.01416015],\n",
       "       [0.01339492, 0.01582423, 0.01672824, 0.01582423, 0.01339492],\n",
       "       [0.01133856, 0.01339492, 0.01416015, 0.01339492, 0.01133856]])"
      ]
     },
     "execution_count": 73,
     "metadata": {},
     "output_type": "execute_result"
    }
   ],
   "source": [
    "#MY CODE \n",
    "#To test meshgrid_create_gaussian_filter fn :\n",
    "meshgrid_create_gaussian_filter(25,3)"
   ]
  },
  {
   "cell_type": "code",
   "execution_count": 74,
   "metadata": {},
   "outputs": [
    {
     "name": "stdout",
     "output_type": "stream",
     "text": [
      "filtered_image (256, 256)\n",
      "kernel shape is  (5, 5)\n",
      "mean kernel [[0.04 0.04 0.04 0.04 0.04]\n",
      " [0.04 0.04 0.04 0.04 0.04]\n",
      " [0.04 0.04 0.04 0.04 0.04]\n",
      " [0.04 0.04 0.04 0.04 0.04]\n",
      " [0.04 0.04 0.04 0.04 0.04]]\n",
      "<class 'numpy.ndarray'>\n",
      "x array = [-2 -1  0  1  2]\n",
      "y array = [-2 -1  0  1  2]\n",
      "filtered_image (256, 256)\n"
     ]
    },
    {
     "data": {
      "text/plain": [
       "array([[ 5.16307501,  6.88849563,  8.394176  , ...,  7.49378222,\n",
       "         6.10153638,  4.50488764],\n",
       "       [ 6.92691498,  9.26313212, 11.28054023, ..., 10.16192319,\n",
       "         8.28134029,  6.11473972],\n",
       "       [ 8.32270372, 11.19074221, 13.67133937, ..., 12.26094367,\n",
       "        10.02062941,  7.40279046],\n",
       "       ...,\n",
       "       [ 0.47114235,  1.03375384, -0.21123774, ...,  1.16933471,\n",
       "         1.15183177,  0.98446694],\n",
       "       [ 0.95465619,  1.96942935,  0.90608848, ...,  2.17243735,\n",
       "         1.65650177,  1.24423635],\n",
       "       [ 0.78524188,  1.84226692,  1.21898912, ...,  1.92881573,\n",
       "         1.39831974,  0.92585734]])"
      ]
     },
     "execution_count": 74,
     "metadata": {},
     "output_type": "execute_result"
    }
   ],
   "source": [
    "#MY CODE\n",
    "#To test create_mean_filter && gaussian filter :\n",
    "\n",
    "# create_mean_filte   fn :\n",
    "mean_kernel=create_mean_filter(25)\n",
    "conv(grey_image,mean_kernel)\n",
    "print('kernel shape is ',mean_kernel.shape)   \n",
    "print('mean kernel',mean_kernel)\n",
    "print(type(mean_kernel))\n",
    "#visualize_image('kernel figure', kernel)\n",
    "#print('grey image',grey_image.shape)\n",
    "\n",
    "\n",
    "\n",
    "#create_gaussian_filter   fn :\n",
    "g_filter=create_gaussian_filter(25,3)\n",
    "conv(grey_image,g_filter)"
   ]
  },
  {
   "cell_type": "code",
   "execution_count": 80,
   "metadata": {},
   "outputs": [],
   "source": [
    "# TODO: Test your functions with `correlate2d()`\n",
    "from scipy import signal\n",
    "from scipy import misc\n",
    "import cv2\n",
    "\n",
    "######  MEAN FILTER  ###### \n",
    "correlated_mean = signal.correlate2d(grey_image,mean_kernel, boundary='symm', mode='same')\n",
    "visualize_image('correlated imager by mean filter',correlated_mean)\n",
    "######  GAUSSIAN FILTER  ###### \n",
    "#grey_image = grey_image - grey_image.mean()\n",
    "#g_filter = g_filter - g_filter.mean()\n",
    "correlated_gaussian = signal.correlate2d(grey_image, g_filter, boundary='fill', mode='same')\n",
    "visualize_image('correlated imager by gaussian filter',correlated_gaussian)"
   ]
  },
  {
   "cell_type": "markdown",
   "metadata": {},
   "source": [
    "# Frequency Domain"
   ]
  },
  {
   "cell_type": "code",
   "execution_count": 85,
   "metadata": {},
   "outputs": [],
   "source": [
    "from scipy import fftpack"
   ]
  },
  {
   "cell_type": "code",
   "execution_count": 86,
   "metadata": {},
   "outputs": [],
   "source": [
    "# This function maps matrices from frequency to space then plots them\n",
    "def plot_image_from_freq(freq_domain_mat):\n",
    "    inverse_fft_mat = fftpack.ifft2(freq_domain_mat) # Inverse FFT is a fast version of inverse DFT\n",
    "    # Due to approximations, the returned matrix contains complex numbers\n",
    "    # So, we get the magnitude to be able to plot the image\n",
    "    image = np.abs(inverse_fft_mat) * 255\n",
    "    visualize_image('ifft image', image)"
   ]
  },
  {
   "cell_type": "code",
   "execution_count": 101,
   "metadata": {},
   "outputs": [],
   "source": [
    "# We will first try to construct a matrix in the frequency domain that makes a vertically moving ripple in the space domain\n",
    "\n",
    "freq_domain_mat = np.zeros([21,21])\n",
    "freq_domain_mat[9, 10] = 1 # The choice of the value '1' is arbitrary\n",
    "freq_domain_mat[11, 10] = 1\n",
    "plot_image_from_freq(freq_domain_mat)"
   ]
  },
  {
   "cell_type": "code",
   "execution_count": 102,
   "metadata": {},
   "outputs": [],
   "source": [
    "# TODO: construct a matrix in the frequency domain that makes a HORIZONTALLY moving ripple in the space domain\n",
    "\n",
    "freq_domain_mat = np.zeros([21,21])\n",
    "freq_domain_mat[11, 11] = 1\n",
    "freq_domain_mat[9, 9] = 1\n",
    "plot_image_from_freq(freq_domain_mat)"
   ]
  },
  {
   "cell_type": "code",
   "execution_count": 103,
   "metadata": {},
   "outputs": [],
   "source": [
    "#MY CODE \n",
    "#SOLUTION :\n",
    "freq_domain_mat = np.zeros([21,21])\n",
    "freq_domain_mat[10, 9] = 1 # The choice of the value '1' is arbitrary\n",
    "freq_domain_mat[10, 11] = 1\n",
    "plot_image_from_freq(freq_domain_mat)"
   ]
  },
  {
   "cell_type": "code",
   "execution_count": 104,
   "metadata": {},
   "outputs": [],
   "source": [
    "# This function applies a filter to an image in the frequency domain\n",
    "# and plots multiple images describing the process\n",
    "def apply_filter_in_freq(img, f):\n",
    "    img_in_freq = fftpack.fft2(img)\n",
    "    \n",
    "    # we supply the img shape here to make both the filter and img have the same shape to be able to multiply\n",
    "    filter_in_freq = fftpack.fft2(f, img.shape)\n",
    "    filtered_img_in_freq = np.multiply(img_in_freq, filter_in_freq)\n",
    "    filtered_img = fftpack.ifft2(filtered_img_in_freq)\n",
    "    \n",
    "    img_in_freq_domain = fftpack.fftshift(np.log(np.abs(img_in_freq)+1))\n",
    "    img_in_freq_domain /= img_in_freq_domain.max() - img_in_freq_domain.min()\n",
    "    \n",
    "    filter_in_freq_domain = fftpack.fftshift(np.log(np.abs(filter_in_freq)+1))\n",
    "    filter_in_freq_domain /= filter_in_freq_domain.max() - filter_in_freq_domain.min()\n",
    "    \n",
    "    filtered_img_in_freq_domain = fftpack.fftshift(np.log(np.abs(filtered_img_in_freq)+1))\n",
    "    filtered_img_in_freq_domain /= filtered_img_in_freq_domain.max() - filtered_img_in_freq_domain.min()\n",
    "    \n",
    "    filtered_img = np.abs(filtered_img)\n",
    "    filtered_img = (filtered_img - filtered_img.min()) / (filtered_img.max() - filtered_img.min())\n",
    "    \n",
    "    show_images([img,\n",
    "                img_in_freq_domain, # log for better intensity scale, \n",
    "                filter_in_freq_domain,\n",
    "                filtered_img_in_freq_domain,\n",
    "                filtered_img\n",
    "                ], ['Image', 'Image in Freq. Domain', 'Filter in Freq. Domain', 'Filtered Image in Freq. Domain', 'Filtered Image'])"
   ]
  },
  {
   "cell_type": "code",
   "execution_count": 105,
   "metadata": {},
   "outputs": [],
   "source": [
    "img2 = cv2.imread('./assets/Picture2.png')\n",
    "gray_img = cv2.cvtColor(img2, cv2.COLOR_BGR2GRAY) / 255\n",
    "gray_img = (gray_img - gray_img.min()) / (gray_img.max() - gray_img.min())\n",
    "\n",
    "# This is a low pass filter\n",
    "f=np.array([\n",
    "    [1,1,1],\n",
    "    [1,1,1],\n",
    "    [1,1,1]\n",
    "], dtype=np.float)\n",
    "\n",
    "f *= 1/9\n",
    "\n",
    "apply_filter_in_freq(gray_img, f)"
   ]
  },
  {
   "cell_type": "code",
   "execution_count": 106,
   "metadata": {},
   "outputs": [],
   "source": [
    "# This is a low pass filter\n",
    "f=np.array([\n",
    "    [1,2,1],\n",
    "    [2,4,2],\n",
    "    [1,2,1]\n",
    "])\n",
    "\n",
    "apply_filter_in_freq(gray_img, f)"
   ]
  },
  {
   "cell_type": "code",
   "execution_count": 107,
   "metadata": {},
   "outputs": [],
   "source": [
    "# This is a high pass filter \n",
    "f=np.array([\n",
    "    [ 0,-1, 0],\n",
    "    [-1, 4,-1],\n",
    "    [ 0,-1, 0]\n",
    "])\n",
    "\n",
    "apply_filter_in_freq(gray_img, f)"
   ]
  }
 ],
 "metadata": {
  "kernelspec": {
   "display_name": "Python 3",
   "language": "python",
   "name": "python3"
  },
  "language_info": {
   "codemirror_mode": {
    "name": "ipython",
    "version": 3
   },
   "file_extension": ".py",
   "mimetype": "text/x-python",
   "name": "python",
   "nbconvert_exporter": "python",
   "pygments_lexer": "ipython3",
   "version": "3.7.6"
  }
 },
 "nbformat": 4,
 "nbformat_minor": 2
}
