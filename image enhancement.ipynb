{
 "cells": [
  {
   "cell_type": "markdown",
   "metadata": {},
   "source": [
    "# Noise\n",
    "Image noise is random variation of brightness or color information in images.\n"
   ]
  },
  {
   "cell_type": "code",
   "execution_count": 1,
   "metadata": {},
   "outputs": [],
   "source": [
    "import numpy as np\n",
    "import skimage\n",
    "from skimage.util import random_noise\n",
    "import cv2"
   ]
  },
  {
   "cell_type": "code",
   "execution_count": 2,
   "metadata": {},
   "outputs": [],
   "source": [
    "def show_images(images, titles):\n",
    "    #This function is used to show image(s) with titles by sending an array of images and an array of associated titles.\n",
    "    # images[0] will be drawn with the title titles[0] if exists\n",
    "    # You aren't required to understand this function, use it as-is.\n",
    "    assert len(images) == len(titles)\n",
    "    for title in titles:\n",
    "        cv2.namedWindow(title, cv2.WINDOW_NORMAL)\n",
    "    \n",
    "    for title, img in zip(titles, images):\n",
    "        cv2.imshow(title, img)\n",
    "    cv2.waitKey(0)\n",
    "    cv2.destroyAllWindows()\n",
    "\n",
    "# How to use show_images([list of images], [list of titles]) They must have the same length\n",
    "# show_images([img1, img2], ['This is image 1', 'This is image 2'])"
   ]
  },
  {
   "cell_type": "markdown",
   "metadata": {},
   "source": [
    "## Random Noise\n",
    "Gaussian Noise is additive, independent at each pixel, and independent of the signal intensity.\n",
    "\n",
    "For paractice we will work using `random_noise` from scikit-image library. Check the documentation at https://scikit-image.org/docs/dev/api/skimage.util.html#random-noise"
   ]
  },
  {
   "cell_type": "code",
   "execution_count": null,
   "metadata": {},
   "outputs": [],
   "source": [
    "# Random noise from skimage\n",
    "import cv2\n",
    "img = cv2.imread('C:/Users/HP 2019/Desktop/LABSSSSSSSSSSSSSS/lab4-image enhancement and manipulation/assets/original.png', cv2.IMREAD_GRAYSCALE)\n",
    "img = skimage.img_as_float(img)\n",
    "n1 = random_noise(img, mode='gaussian', clip=False, var=0.01**2)\n",
    "n2 = random_noise(img, mode='gaussian', clip=False, var=0.03**2)\n",
    "n3 = random_noise(img, mode='gaussian', clip=False, var=0.07**2)\n",
    "#MY CODE\n",
    "n_subtracted_1=n2-n1\n",
    "n_subtracted_2=n3-n1\n",
    "#cv2.imshow('n2-n1',n_subtracted_1)\n",
    "#cv2.imshow('n3-n1',n_subtracted_2)\n",
    "\n",
    "show_images([n1, n2, n3], ['random noise at sigma=0.01', 'random noise at sigma=0.03', 'random noise at sigma=0.07'])"
   ]
  },
  {
   "cell_type": "markdown",
   "metadata": {},
   "source": [
    "TODO: \n",
    "* What do you expect if you subtracted n2 and n1?\n",
    "* What is the mean and variance of the error?\n",
    "* how do you think we can remove it? The answer is gaussian or mean filters"
   ]
  },
  {
   "cell_type": "markdown",
   "metadata": {},
   "source": [
    "# My answers:\n",
    "\n",
    "\n",
    "1-It will give negative value and hence black image if we substracted n1 from n2..It gives error out of range !\n",
    "\n",
    "\n",
    "\n",
    "2-Mean is zero like mean of n1,n2,n3 (I think :/) !\n",
    "\n",
    "\n",
    "\n",
    "3-Gaussian because it is a gaussian distributed noise which will be more suitable \n",
    "\n",
    "\n",
    "#note:code illustrated above\n"
   ]
  },
  {
   "cell_type": "markdown",
   "metadata": {},
   "source": [
    "#TODO:\n",
    "* What will happen if we averaged noisy images with each others?"
   ]
  },
  {
   "cell_type": "code",
   "execution_count": null,
   "metadata": {},
   "outputs": [],
   "source": [
    "#Answer:\n",
    "#It will give a noisy image but it will average the noise of all three images\n",
    "#MY CODE\n",
    "from matplotlib import pyplot as plt\n",
    "n_AVG=(n1+n2+n3)/3\n",
    "plt.imshow(n_AVG,cmap='gray')\n",
    "plt.show()\n",
    "\n"
   ]
  },
  {
   "cell_type": "markdown",
   "metadata": {},
   "source": [
    "## Salt-and-Pepper Noise\n",
    "\"impulsive\" noise is sometimes called salt-and-pepper noise or spike noise. An image containing salt-and-pepper noise will have dark pixels in bright regions and bright pixels in dark regions.\n",
    "\n",
    "In the following code `amount` parameter represents the percentage of pixels affected by salt and pepper noise."
   ]
  },
  {
   "cell_type": "code",
   "execution_count": null,
   "metadata": {},
   "outputs": [],
   "source": [
    "img = cv2.imread('./assets/original.png', cv2.IMREAD_GRAYSCALE)\n",
    "img = skimage.img_as_float(img)\n",
    "n1 = random_noise(img, mode='s&p', clip=False, amount=0.02)\n",
    "n2 = random_noise(img, mode='s&p', clip=False, amount=0.04)\n",
    "n3 = random_noise(img, mode='s&p', clip=False, amount=0.08)\n",
    "\n",
    "show_images([n1, n2, n3], ['Salt & pepper noise at amount=0.02', 'Salt & pepper noise at amount=0.04', 'Salt & pepper noise at amount=0.08'])"
   ]
  },
  {
   "cell_type": "markdown",
   "metadata": {},
   "source": [
    "TODO: \n",
    "* Why can't we use mean or gaussian here?\n",
    "* What should we do then?\n",
    "\n",
    "### Median Filter!\n",
    "The median filter is normally used to reduce noise in an image, somewhat like the mean filter. However, it often does a better job than the mean filter of preserving useful detail in the image.\n",
    "\n",
    "Like the mean filter, the median filter considers each pixel in the image in turn and looks at its nearby neighbors to decide whether or not it is representative of its surroundings. Instead of simply replacing the pixel value with the mean of neighboring pixel values, it replaces it with the median of those values. The median is calculated by first sorting all the pixel values from the surrounding neighborhood into numerical order and then replacing the pixel being considered with the middle pixel value.\n",
    "\n",
    "Check https://homepages.inf.ed.ac.uk/rbf/HIPR2/median.htm for more details"
   ]
  },
  {
   "cell_type": "markdown",
   "metadata": {},
   "source": [
    "# My answer:\n",
    "1-Because some edges /details might be lost but median filter keeps them .Edges are of critical importance to the visual appearance of images .\n",
    "\n",
    "\n",
    "2-We should use median filter.It is effective in removing this kind of noise ."
   ]
  },
  {
   "cell_type": "code",
   "execution_count": null,
   "metadata": {},
   "outputs": [],
   "source": [
    "denoised1 = cv2.medianBlur(skimage.img_as_uint(n1),3)\n",
    "denoised2 = cv2.medianBlur(skimage.img_as_uint(n2),3)\n",
    "denoised3 = cv2.medianBlur(skimage.img_as_uint(n3),3)\n",
    "show_images([denoised1, denoised2, denoised3], ['denoised1', 'denoised2', 'denoised3'])"
   ]
  },
  {
   "cell_type": "markdown",
   "metadata": {},
   "source": [
    "# Image enhancement\n",
    "\n",
    "Image enhancement is the procedure of improving the quality and information content of original data before processing. Contrast enhancement or stretching is performed by linear transformation expanding the original range of gray level.\n",
    "\n",
    "What is contrast of the image?\n",
    "Contrast can be defined as the effective range of the image $$[ \\text{min(I)}, \\text{max(I)}]$$ so if the range is small we say that the image has low contrast which means that the details of the image won't be clear!\n",
    "\n",
    "## Negative transformation\n",
    "Negative transformation, which is invert of identity transformation. In negative transformation, each value of the input image is subtracted from the max possible intesity and mapped onto the output image.\n",
    "$$I(x, y)_{new} = \\text{max intensity} - I(x, y)$$\n",
    "\n",
    "TODO: apply negative transform on image `negative.png`"
   ]
  },
  {
   "cell_type": "code",
   "execution_count": null,
   "metadata": {},
   "outputs": [
    {
     "name": "stdout",
     "output_type": "stream",
     "text": [
      "max value in img 255\n",
      "min value in img 21\n"
     ]
    }
   ],
   "source": [
    "import numpy as np\n",
    "img = cv2.imread('C:/Users/HP 2019/Desktop/LABSSSSSSSSSSSSSS/lab4-image enhancement and manipulation/assets/negative.png', cv2.IMREAD_GRAYSCALE)\n",
    "negative_transformed_img=255-img\n",
    "max_val=np.amax(img)\n",
    "min_val=np.amin(img)\n",
    "\n",
    "print('max value in img',max_val)\n",
    "print('min value in img',min_val)\n",
    "show_images([img,negative_transformed_img], ['img', 'negative transformed img'])\n",
    "\n",
    "\n",
    "#refrence :\n",
    "#https://www.youtube.com/watch?v=_RGJT6JKO1o\n",
    "    "
   ]
  },
  {
   "cell_type": "markdown",
   "metadata": {},
   "source": [
    "## Contrast stretching\n",
    "We said that the contrast of the image is the range between $min(I)$ and $max(I)$ so we will try to **stretch** the contrast a little bit\n",
    "\n",
    "### Using linear transformation\n",
    "If an image with range $[0.3, 0.7]$ we can rescale the image to be $[0, 1]$ which will increase the contrast of the image\n",
    "\n",
    "TODO: Try to rescale `dark.png` to image between $[0, 1]$"
   ]
  },
  {
   "cell_type": "code",
   "execution_count": 10,
   "metadata": {},
   "outputs": [
    {
     "name": "stdout",
     "output_type": "stream",
     "text": [
      "max value in img 255\n",
      "min value in img 76\n"
     ]
    },
    {
     "data": {
      "text/plain": [
       "\"\\nI think I can write it directly like that without for loop\\nnew_img=(img-min_val)/((max_val-min_val)*255)\\nshow_images([img,new_img], ['img', 'contrasted img'])\\n\""
      ]
     },
     "execution_count": 10,
     "metadata": {},
     "output_type": "execute_result"
    }
   ],
   "source": [
    "import numpy as np\n",
    "img = cv2.imread('C:/Users/HP 2019/Desktop/LABSSSSSSSSSSSSSS/lab4-image enhancement and manipulation/assets/dark.png', cv2.IMREAD_GRAYSCALE)\n",
    "max_val=np.amax(img)\n",
    "min_val=np.amin(img)\n",
    "\n",
    "print('max value in img',max_val)\n",
    "print('min value in img',min_val)\n",
    "height=img.shape[0]\n",
    "width=img.shape[1]\n",
    "for i in range(0,height-1,1):   \n",
    "    for j in range(0,width-1,1):\n",
    "        new_img[i,j]=(img[i,j]-min_val)/((max_val-min_val)*255)\n",
    "        \n",
    "    \n",
    "show_images([img,new_img], ['img', 'contrasted img'])\n",
    "\n",
    "\n",
    "\"\"\"\n",
    "I think:\n",
    "I can write it directly like that without for loop\n",
    "new_img=(img-min_val)/((max_val-min_val)*255)\n",
    "show_images([img,new_img], ['img', 'contrasted img'])\n",
    "\"\"\"\n",
    "\n",
    "    "
   ]
  },
  {
   "cell_type": "markdown",
   "metadata": {},
   "source": [
    "## Gamma correction\n",
    "$$I(x, y)_{new} = c I(x, y)^\\gamma$$\n",
    "![title](./assets/gamma.png)\n",
    "\n",
    "TODO: Implement gamma correction and test it for `dark.png`"
   ]
  },
  {
   "cell_type": "code",
   "execution_count": 20,
   "metadata": {},
   "outputs": [
    {
     "ename": "TypeError",
     "evalue": "Expected Ptr<cv::UMat> for argument 'mat'",
     "output_type": "error",
     "traceback": [
      "\u001b[1;31m---------------------------------------------------------------------------\u001b[0m",
      "\u001b[1;31mTypeError\u001b[0m                                 Traceback (most recent call last)",
      "\u001b[1;32m<ipython-input-20-5a6facfdbbe5>\u001b[0m in \u001b[0;36m<module>\u001b[1;34m\u001b[0m\n\u001b[0;32m     27\u001b[0m \u001b[0mimgGamma1\u001b[0m\u001b[1;33m=\u001b[0m\u001b[0mgamma_corr\u001b[0m\u001b[1;33m(\u001b[0m\u001b[1;36m1\u001b[0m\u001b[1;33m,\u001b[0m\u001b[0mimg\u001b[0m\u001b[1;33m)\u001b[0m\u001b[1;33m\u001b[0m\u001b[1;33m\u001b[0m\u001b[0m\n\u001b[0;32m     28\u001b[0m \u001b[1;33m\u001b[0m\u001b[0m\n\u001b[1;32m---> 29\u001b[1;33m \u001b[0mshow_images\u001b[0m\u001b[1;33m(\u001b[0m\u001b[1;33m[\u001b[0m\u001b[0mimgGamma25\u001b[0m\u001b[1;33m,\u001b[0m\u001b[0mimgGamma10\u001b[0m\u001b[1;33m,\u001b[0m\u001b[0mimgGamma1\u001b[0m\u001b[1;33m]\u001b[0m\u001b[1;33m,\u001b[0m \u001b[1;33m[\u001b[0m\u001b[1;34m'imgGamma25'\u001b[0m\u001b[1;33m,\u001b[0m \u001b[1;34m'imgGamma10'\u001b[0m\u001b[1;33m,\u001b[0m\u001b[1;34m'imgGamma1'\u001b[0m\u001b[1;33m]\u001b[0m\u001b[1;33m)\u001b[0m\u001b[1;33m\u001b[0m\u001b[1;33m\u001b[0m\u001b[0m\n\u001b[0m",
      "\u001b[1;32m<ipython-input-10-a1751cec6f30>\u001b[0m in \u001b[0;36mshow_images\u001b[1;34m(images, titles)\u001b[0m\n\u001b[0;32m      8\u001b[0m \u001b[1;33m\u001b[0m\u001b[0m\n\u001b[0;32m      9\u001b[0m     \u001b[1;32mfor\u001b[0m \u001b[0mtitle\u001b[0m\u001b[1;33m,\u001b[0m \u001b[0mimg\u001b[0m \u001b[1;32min\u001b[0m \u001b[0mzip\u001b[0m\u001b[1;33m(\u001b[0m\u001b[0mtitles\u001b[0m\u001b[1;33m,\u001b[0m \u001b[0mimages\u001b[0m\u001b[1;33m)\u001b[0m\u001b[1;33m:\u001b[0m\u001b[1;33m\u001b[0m\u001b[1;33m\u001b[0m\u001b[0m\n\u001b[1;32m---> 10\u001b[1;33m         \u001b[0mcv2\u001b[0m\u001b[1;33m.\u001b[0m\u001b[0mimshow\u001b[0m\u001b[1;33m(\u001b[0m\u001b[0mtitle\u001b[0m\u001b[1;33m,\u001b[0m \u001b[0mimg\u001b[0m\u001b[1;33m)\u001b[0m\u001b[1;33m\u001b[0m\u001b[1;33m\u001b[0m\u001b[0m\n\u001b[0m\u001b[0;32m     11\u001b[0m     \u001b[0mcv2\u001b[0m\u001b[1;33m.\u001b[0m\u001b[0mwaitKey\u001b[0m\u001b[1;33m(\u001b[0m\u001b[1;36m0\u001b[0m\u001b[1;33m)\u001b[0m\u001b[1;33m\u001b[0m\u001b[1;33m\u001b[0m\u001b[0m\n\u001b[0;32m     12\u001b[0m     \u001b[0mcv2\u001b[0m\u001b[1;33m.\u001b[0m\u001b[0mdestroyAllWindows\u001b[0m\u001b[1;33m(\u001b[0m\u001b[1;33m)\u001b[0m\u001b[1;33m\u001b[0m\u001b[1;33m\u001b[0m\u001b[0m\n",
      "\u001b[1;31mTypeError\u001b[0m: Expected Ptr<cv::UMat> for argument 'mat'"
     ]
    }
   ],
   "source": [
    "#MY CODE\n",
    "\n",
    "### I can't figure the error !!!!!!!!  ####\n",
    "\n",
    "import cv2\n",
    "import numpy as np\n",
    "img = cv2.imread('C:/Users/HP 2019/Desktop/LABSSSSSSSSSSSSSS/lab4-image enhancement and manipulation/assets/dark.png', cv2.IMREAD_GRAYSCALE)\n",
    "\n",
    "def gamma_corr(gamma,img):\n",
    "    r=img.shape[0]\n",
    "    c=img.shape[1]\n",
    "    outputimg=np.zeros((r,c))\n",
    "    #Assume c (constant)=1\n",
    "    constant =1 \n",
    "    outputimg=constant*(np.power(img,gamma))\n",
    "    return outputimg\n",
    "\n",
    "\n",
    "#Note: there is an error !\n",
    "#To test it:\n",
    "imgGamma25=(4,img)\n",
    "#cv2.imshow('img_gamma',img_gamma_25)\n",
    "#cv2.waitKey()\n",
    "#cv2.destroyAllWindows()\n",
    "\n",
    "imgGamma10=(10,img)\n",
    "imgGamma1=gamma_corr(1,img)\n",
    "\n",
    "show_images([imgGamma25,imgGamma10,imgGamma1], ['imgGamma25', 'imgGamma10','imgGamma1'])"
   ]
  },
  {
   "cell_type": "markdown",
   "metadata": {},
   "source": [
    "## Histogram equalization\n",
    "\n",
    "### What is a histogram?\n",
    "* It is a graphical representation of the intensity distribution of an image.\n",
    "* It quantifies the number of pixels for each intensity value considered.\n",
    "\n",
    "### What is histogram equalization?\n",
    "* It is a method that improves the contrast in an image, in order to stretch out the intensity range.\n",
    "* Check the histogram below. All the intesity values are concentrated in a small region, hence low contrast!\n",
    "\n",
    "### How do we equalize the histogram?\n",
    "* First compute the probability of each pixel intensity in the histogram $$P(i) = \\frac{\\text{Number of occurences of i}}\n",
    "{\\text{Total number of pixels}}$$\n",
    "* Second Now we have the weights lets start stretching!. We compute the new histogram, let $N$ is the number of bins then $$H(i)_{new} = \\text{max possible intensity}\\sum_{i \\in N} N p(i)$$\n",
    "![title](./assets/histogram.png)\n",
    "\n",
    "Let's first plot the histogram and see what is going on!. we will work on `dark.png`\n",
    "\n",
    "Check https://docs.opencv.org/2.4/doc/tutorials/imgproc/histograms/histogram_equalization/histogram_equalization.html for details\n",
    "For calculating the histogram\n",
    "https://docs.opencv.org/master/d1/db7/tutorial_py_histogram_begins.html"
   ]
  },
  {
   "cell_type": "code",
   "execution_count": 18,
   "metadata": {},
   "outputs": [],
   "source": [
    "img = cv2.imread('./assets/dark.png', cv2.IMREAD_GRAYSCALE)\n",
    "hist, bins = np.histogram(img.reshape(-1), bins=256)"
   ]
  },
  {
   "cell_type": "code",
   "execution_count": 19,
   "metadata": {},
   "outputs": [
    {
     "data": {
      "image/png": "[encoded data removed]",
      "text/plain": [
       "<Figure size 432x288 with 1 Axes>"
      ]
     },
     "metadata": {
      "needs_background": "light"
     },
     "output_type": "display_data"
    }
   ],
   "source": [
    "from matplotlib import pyplot as plt\n",
    "%matplotlib inline\n",
    "plt.hist(img.ravel(),256,[0,256])\n",
    "plt.show()"
   ]
  },
  {
   "cell_type": "code",
   "execution_count": 8,
   "metadata": {},
   "outputs": [
    {
     "data": {
      "image/png": "[encoded data removed]",
      "text/plain": [
       "<Figure size 432x288 with 1 Axes>"
      ]
     },
     "metadata": {
      "needs_background": "light"
     },
     "output_type": "display_data"
    }
   ],
   "source": [
    "new_img = cv2.equalizeHist(img)\n",
    "plt.hist(new_img.ravel(),256,[0,256])\n",
    "plt.show()\n",
    "show_images([img, new_img], ['original', 'equalized'])"
   ]
  },
  {
   "cell_type": "markdown",
   "metadata": {},
   "source": [
    "TODO: Try the histogram equalization on `bad_kid.tif`"
   ]
  },
  {
   "cell_type": "code",
   "execution_count": 3,
   "metadata": {},
   "outputs": [
    {
     "data": {
      "image/png": "[encoded data removed]",
      "text/plain": [
       "<Figure size 432x288 with 1 Axes>"
      ]
     },
     "metadata": {
      "needs_background": "light"
     },
     "output_type": "display_data"
    }
   ],
   "source": [
    "###         MY   CODE ###\n",
    "img = cv2.imread('./assets/bad_kid.tif', cv2.IMREAD_GRAYSCALE)\n",
    "hist, bins = np.histogram(img.reshape(-1), bins=256)\n",
    "from matplotlib import pyplot as plt\n",
    "%matplotlib inline\n",
    "plt.hist(img.ravel(),256,[0,256])\n",
    "plt.show()\n",
    "\n"
   ]
  },
  {
   "cell_type": "code",
   "execution_count": null,
   "metadata": {},
   "outputs": [
    {
     "data": {
      "image/png": "[encoded data removed]",
      "text/plain": [
       "<Figure size 432x288 with 1 Axes>"
      ]
     },
     "metadata": {
      "needs_background": "light"
     },
     "output_type": "display_data"
    }
   ],
   "source": [
    "###   MY CODE ###\n",
    "new_img = cv2.equalizeHist(img)\n",
    "plt.hist(new_img.ravel(),256,[0,256])\n",
    "plt.show()\n",
    "show_images([img, new_img], ['original', 'equalized'])"
   ]
  }
 ],
 "metadata": {
  "kernelspec": {
   "display_name": "Python 3",
   "language": "python",
   "name": "python3"
  },
  "language_info": {
   "codemirror_mode": {
    "name": "ipython",
    "version": 3
   },
   "file_extension": ".py",
   "mimetype": "text/x-python",
   "name": "python",
   "nbconvert_exporter": "python",
   "pygments_lexer": "ipython3",
   "version": "3.7.6"
  }
 },
 "nbformat": 4,
 "nbformat_minor": 2
}
