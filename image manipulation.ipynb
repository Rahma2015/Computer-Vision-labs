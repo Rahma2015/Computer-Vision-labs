{
 "cells": [
  {
   "cell_type": "markdown",
   "metadata": {},
   "source": [
    "# Color quantization\n",
    "Color quantization or color image quantization is quantization applied to color spaces; it is a process that reduces the number of distinct colors used in an image, usually with the intention that the new image should be as visually similar as possible to the original image. Color quantization is critical for displaying images with many colors on devices that can only display a limited number of colors, usually due to memory limitations, and enables efficient compression of certain types of images.\n",
    "\n",
    "## Uniform quantization\n",
    "The idea is simple, split the image into equal number of levels $N$ and map the current colors to the closest level! Easy right"
   ]
  },
  {
   "cell_type": "code",
   "execution_count": 2,
   "metadata": {},
   "outputs": [],
   "source": [
    "import numpy as np\n",
    "import cv2\n",
    "import skimage"
   ]
  },
  {
   "cell_type": "code",
   "execution_count": 3,
   "metadata": {},
   "outputs": [],
   "source": [
    "def show_images(images, titles):\n",
    "    #This function is used to show image(s) with titles by sending an array of images and an array of associated titles.\n",
    "    # images[0] will be drawn with the title titles[0] if exists\n",
    "    # You aren't required to understand this function, use it as-is.\n",
    "    assert len(images) == len(titles)\n",
    "    for title in titles:\n",
    "        cv2.namedWindow(title, cv2.WINDOW_NORMAL)\n",
    "    \n",
    "    for title, img in zip(titles, images):\n",
    "        cv2.imshow(title, img)\n",
    "\n",
    "    cv2.waitKey(0)\n",
    "    cv2.destroyAllWindows()\n",
    "\n",
    "# How to use show_images([list of images], [list of titles]) They must have the same length\n",
    "# show_images([img1, img2], ['This is image 1', 'This is image 2'])"
   ]
  },
  {
   "cell_type": "code",
   "execution_count": 4,
   "metadata": {},
   "outputs": [],
   "source": [
    "def uniform_quantization(img: np.ndarray, number_of_colors: int) -> np.ndarray:\n",
    "    assert number_of_colors > 1\n",
    "    assert img.dtype == np.uint8\n",
    "    number_of_colors -= 1\n",
    "    new_img = np.round((img+1)*(number_of_colors/255)) * (255/number_of_colors)\n",
    "    return new_img.astype(np.uint8)\n"
   ]
  },
  {
   "cell_type": "code",
   "execution_count": 5,
   "metadata": {},
   "outputs": [
    {
     "name": "stdout",
     "output_type": "stream",
     "text": [
      "number of color levels in RGB image: 8\n",
      "The colors are:\n",
      "[[  0   0   0]\n",
      " [  0   0 255]\n",
      " [  0 255   0]\n",
      " [  0 255 255]\n",
      " [255   0   0]\n",
      " [255   0 255]\n",
      " [255 255   0]\n",
      " [255 255 255]]\n"
     ]
    }
   ],
   "source": [
    "img = cv2.imread('./assets/image_with_colors.png')\n",
    "new_img = uniform_quantization(img, 2)\n",
    "show_images([img, new_img], ['real colored image', 'new colored image'])\n",
    "colors, counts = np.unique(new_img.reshape(-1, 3), return_counts = True, axis = 0)\n",
    "print('number of color levels in RGB image: {}\\nThe colors are:\\n{}'.format(len(colors), colors))"
   ]
  },
  {
   "cell_type": "code",
   "execution_count": 6,
   "metadata": {},
   "outputs": [
    {
     "name": "stdout",
     "output_type": "stream",
     "text": [
      "number of color levels in gray image: 2\n",
      "The colors are:\n",
      "[  0 255]\n"
     ]
    }
   ],
   "source": [
    "gray_img = cv2.imread('./assets/image_with_colors.png', cv2.IMREAD_GRAYSCALE)\n",
    "new_gray = uniform_quantization(gray_img, 2)\n",
    "show_images([gray_img, new_gray], ['real gray image', 'new gray image'])\n",
    "# How many images are there in the image?\n",
    "colors, counts = np.unique(new_gray.reshape(-1), return_counts = True, axis = 0)\n",
    "print('number of color levels in gray image: {}\\nThe colors are:\\n{}'.format(len(colors), colors))"
   ]
  },
  {
   "cell_type": "markdown",
   "metadata": {},
   "source": [
    "## Popularity algorithm\n",
    "Popularity algorithms are another form of uniform quantization. However, instead of dividing the color space into constant regions these algorithms break the color space according to the density of the colors"
   ]
  },
  {
   "cell_type": "code",
   "execution_count": 6,
   "metadata": {},
   "outputs": [],
   "source": [
    "def popularity_quantization(img: np.ndarray, number_of_colors: int) -> np.ndarray:\n",
    "    assert number_of_colors > 1\n",
    "    assert len(img.shape) == 3\n",
    "               \n",
    "    # Get the most popular color\n",
    "    colors, counts = np.unique(img.reshape(-1, 3), return_counts = True, axis = 0)\n",
    "    sorted_indicies = np.flip(np.argsort(counts))\n",
    "    sorted_colors = colors[sorted_indicies]\n",
    "    selected_colors = sorted_colors[:number_of_colors]\n",
    "    # Get the nearest color for the pixel using Least square distance\n",
    "    color_distance = np.sqrt(np.sum((np.expand_dims(img.reshape(-1, 3), axis=1) - selected_colors) ** 2, axis=2))\n",
    "    indicies_of_the_least_distance = np.argmin(color_distance, axis=1)\n",
    "    new_img = selected_colors[indicies_of_the_least_distance].reshape(img.shape)\n",
    "\n",
    "    return new_img\n",
    "    \n",
    "    "
   ]
  },
  {
   "cell_type": "markdown",
   "metadata": {},
   "source": [
    "TODO: \n",
    "* play with the value of the number of levels \n",
    "* Discuss what is the effect of number of levels? \n",
    "* Suggested values (2, 100, 150, 200)"
   ]
  },
  {
   "cell_type": "code",
   "execution_count": 11,
   "metadata": {},
   "outputs": [
    {
     "name": "stdout",
     "output_type": "stream",
     "text": [
      "number of color levels in RGB image: 8\n",
      "The colors are:\n",
      "[[  0   0   0]\n",
      " [  0   0 255]\n",
      " [  0 255   0]\n",
      " [  0 255 255]\n",
      " [255   0   0]\n",
      " [255   0 255]\n",
      " [255 255   0]\n",
      " [255 255 255]]\n",
      "number of color levels in gray image: 2\n",
      "The colors are:\n",
      "[  0 255]\n"
     ]
    }
   ],
   "source": [
    "#### MY CODE ####\n",
    "#1-\n",
    "img = cv2.imread('./assets/image_with_colors.png')\n",
    "#no. of color levels is 2 \n",
    "new_img = uniform_quantization(img, 2)\n",
    "show_images([img, new_img], ['real colored image', 'new colored image'])\n",
    "colors, counts = np.unique(new_img.reshape(-1, 3), return_counts = True, axis = 0)\n",
    "print('number of color levels in RGB image: {}\\nThe colors are:\\n{}'.format(len(colors), colors))\n",
    "\n",
    "##.........\n",
    "gray_img = cv2.imread('./assets/image_with_colors.png', cv2.IMREAD_GRAYSCALE)\n",
    "new_gray = uniform_quantization(gray_img, 2)\n",
    "show_images([gray_img, new_gray], ['real gray image', 'new gray image'])\n",
    "# How many images are there in the image?\n",
    "colors, counts = np.unique(new_gray.reshape(-1), return_counts = True, axis = 0)\n",
    "print('number of color levels in gray image: {}\\nThe colors are:\\n{}'.format(len(colors), colors))"
   ]
  },
  {
   "cell_type": "code",
   "execution_count": 9,
   "metadata": {},
   "outputs": [
    {
     "name": "stdout",
     "output_type": "stream",
     "text": [
      "number of color levels in RGB image: 53140\n",
      "The colors are:\n",
      "[[  0   0   0]\n",
      " [  0   0   2]\n",
      " [  0   0   5]\n",
      " ...\n",
      " [255 255 249]\n",
      " [255 255 252]\n",
      " [255 255 255]]\n",
      "number of color levels in gray image: 100\n",
      "The colors are:\n",
      "[  0   2   5   7  10  12  15  18  20  23  25  28  30  33  36  38  41  43\n",
      "  46  48  51  54  56  59  61  64  66  69  72  74  77  79  82  85  87  90\n",
      "  92  95  97 100 103 105 108 110 113 115 118 121 123 126 128 131 133 136\n",
      " 139 141 144 146 149 151 154 157 159 162 164 167 170 172 175 177 180 182\n",
      " 185 188 190 193 195 198 200 203 206 208 211 213 216 218 221 224 226 229\n",
      " 231 234 236 239 242 244 247 249 252 255]\n"
     ]
    }
   ],
   "source": [
    "#### MY CODE ####\n",
    "#2-\n",
    "img = cv2.imread('./assets/image_with_colors.png')\n",
    "#no. of color levels is 100 \n",
    "new_img = uniform_quantization(img, 100)\n",
    "show_images([img, new_img], ['real colored image', 'new colored image'])\n",
    "colors, counts = np.unique(new_img.reshape(-1, 3), return_counts = True, axis = 0)\n",
    "print('number of color levels in RGB image: {}\\nThe colors are:\\n{}'.format(len(colors), colors))\n",
    "\n",
    "##.........\n",
    "gray_img = cv2.imread('./assets/image_with_colors.png', cv2.IMREAD_GRAYSCALE)\n",
    "new_gray = uniform_quantization(gray_img, 100)\n",
    "show_images([gray_img, new_gray], ['real gray image', 'new gray image'])\n",
    "# How many images are there in the image?\n",
    "colors, counts = np.unique(new_gray.reshape(-1), return_counts = True, axis = 0)\n",
    "print('number of color levels in gray image: {}\\nThe colors are:\\n{}'.format(len(colors), colors))"
   ]
  },
  {
   "cell_type": "code",
   "execution_count": null,
   "metadata": {},
   "outputs": [],
   "source": [
    "#### MY CODE ####\n",
    "#3-\n",
    "img = cv2.imread('./assets/image_with_colors.png')\n",
    "#no. of color levels is 2 \n",
    "new_img = uniform_quantization(img, 150)\n",
    "show_images([img, new_img], ['real colored image', 'new colored image'])\n",
    "colors, counts = np.unique(new_img.reshape(-1, 3), return_counts = True, axis = 0)\n",
    "print('number of color levels in RGB image: {}\\nThe colors are:\\n{}'.format(len(colors), colors))\n",
    "\n",
    "##.........\n",
    "gray_img = cv2.imread('./assets/image_with_colors.png', cv2.IMREAD_GRAYSCALE)\n",
    "new_gray = uniform_quantization(gray_img, 150)\n",
    "show_images([gray_img, new_gray], ['real gray image', 'new gray image'])\n",
    "# How many images are there in the image?\n",
    "colors, counts = np.unique(new_gray.reshape(-1), return_counts = True, axis = 0)\n",
    "print('number of color levels in gray image: {}\\nThe colors are:\\n{}'.format(len(colors), colors))"
   ]
  },
  {
   "cell_type": "code",
   "execution_count": 12,
   "metadata": {},
   "outputs": [
    {
     "name": "stdout",
     "output_type": "stream",
     "text": [
      "number of color levels in RGB image: 92552\n",
      "The colors are:\n",
      "[[  0   0   0]\n",
      " [  0   0   1]\n",
      " [  0   0   4]\n",
      " ...\n",
      " [255 254   0]\n",
      " [255 254 249]\n",
      " [255 255 255]]\n",
      "number of color levels in gray image: 209\n",
      "The colors are:\n",
      "[  0   1   3   4   5   6   7   9  10  11  12  13  15  16  17  18  19  21\n",
      "  22  23  24  25  27  28  29  30  32  33  34  35  36  38  39  40  41  42\n",
      "  44  45  46  47  48  50  51  52  53  54  56  57  59  62  63  64  65  67\n",
      "  68  69  70  71  73  74  75  76  77  79  80  81  82  83  85  86  87  88\n",
      "  90  91  92  93  94  96  97  98  99 100 102 103 104 105 106 108 109 110\n",
      " 111 112 115 116 117 119 120 121 122 123 125 126 127 128 129 131 132 133\n",
      " 134 135 137 138 139 140 142 143 144 145 146 148 149 150 151 152 154 155\n",
      " 156 157 158 160 161 162 163 164 166 167 168 169 171 172 173 174 175 177\n",
      " 178 179 180 181 183 184 185 186 187 189 190 191 192 193 195 196 197 198\n",
      " 200 201 202 203 204 206 207 208 209 210 212 213 214 215 216 218 219 220\n",
      " 221 222 224 225 226 227 229 230 231 232 233 235 236 237 238 239 241 242\n",
      " 243 244 245 247 248 249 250 251 253 254 255]\n"
     ]
    }
   ],
   "source": [
    "#### MY CODE ####\n",
    "#4-\n",
    "img = cv2.imread('./assets/image_with_colors.png')\n",
    "#no. of color levels is 200\n",
    "new_img = uniform_quantization(img, 200)\n",
    "show_images([img, new_img], ['real colored image', 'new colored image'])\n",
    "colors, counts = np.unique(new_img.reshape(-1, 3), return_counts = True, axis = 0)\n",
    "print('number of color levels in RGB image: {}\\nThe colors are:\\n{}'.format(len(colors), colors))\n",
    "\n",
    "##.........\n",
    "gray_img = cv2.imread('./assets/image_with_colors.png', cv2.IMREAD_GRAYSCALE)\n",
    "new_gray = uniform_quantization(gray_img, 200)\n",
    "show_images([gray_img, new_gray], ['real gray image', 'new gray image'])\n",
    "# How many images are there in the image?\n",
    "colors, counts = np.unique(new_gray.reshape(-1), return_counts = True, axis = 0)\n",
    "print('number of color levels in gray image: {}\\nThe colors are:\\n{}'.format(len(colors), colors))"
   ]
  },
  {
   "cell_type": "markdown",
   "metadata": {},
   "source": [
    "# MY ANSWER :\n",
    "QS:Discuss what is the effect of number of levels? \n",
    "\n",
    "When we increse number of levels for quantization ,it becomes better and image becomes clearer -- accuracy increaes when we increase quantization levels ."
   ]
  },
  {
   "cell_type": "code",
   "execution_count": 7,
   "metadata": {},
   "outputs": [
    {
     "name": "stderr",
     "output_type": "stream",
     "text": [
      "C:\\Users\\mrmah\\Anaconda3\\lib\\site-packages\\skimage\\util\\dtype.py:135: UserWarning: Possible precision loss when converting from float64 to uint16\n",
      "  .format(dtypeobj_in, dtypeobj_out))\n"
     ]
    }
   ],
   "source": [
    "img = cv2.imread('./assets/image_with_colors.png')\n",
    "img = skimage.img_as_float(img)\n",
    "new = popularity_quantization(img, 2)\n",
    "new = skimage.img_as_uint(new)\n",
    "show_images([img, new], ['real image', 'new image'])"
   ]
  },
  {
   "cell_type": "markdown",
   "metadata": {},
   "source": [
    "# Image dithering\n",
    "It is possible to display a grey-level image in a bilevel device such as monochrome displays and many hardcopy printers by using a technique called image dithering. It consists of mapping the original grey image into a binary image. As our eyes perform a spatial integration, it is possible to achieve reasonable results by using a mapping strategy where the gray-intensity values are converted to density of black pixels.\n",
    "\n",
    "If the pattern size is $n$ then the number of levels of the represented gray levels = $n^2 + 1$ as example if $n=2$ we will have a pattern of size $2 \\times 2$ with $2^2 + 1 = 5$ number of gray levels\n",
    "![title](./assets/dithering.png)\n",
    "Now the main idea is to threshold each pixel value to it's proper representation"
   ]
  },
  {
   "cell_type": "code",
   "execution_count": 8,
   "metadata": {},
   "outputs": [],
   "source": [
    "def dither_image(img: np.ndarray, positive=True) -> np.ndarray:\n",
    "    assert len(img.shape) == 2\n",
    "    # Create the 2x2 pattern\n",
    "    if positive:\n",
    "        patterns_list = np.array([[[0, 0], [0, 0]],\n",
    "                                  [[0, 0], [1, 0]],\n",
    "                                  [[0, 1], [1, 0]],\n",
    "                                  [[0, 1], [1, 1]],\n",
    "                                  [[1, 1], [1, 1]]], dtype=np.float)\n",
    "    else:\n",
    "        patterns_list = np.array([[[1, 1], [1, 1]],\n",
    "                                  [[0, 1], [1, 1]],\n",
    "                                  [[0, 1], [1, 0]],\n",
    "                                  [[0, 0], [1, 0]],\n",
    "                                  [[0, 0], [0, 0]]], dtype=np.float)\n",
    "    \n",
    "    number_of_levels = 2**2 + 1\n",
    "    threshold_increment = 1/number_of_levels\n",
    "    new_img = np.zeros((img.shape[0]*2, img.shape[1]*2))\n",
    "    \n",
    "    for i in range(img.shape[0]):\n",
    "        for j in range(img.shape[1]):\n",
    "            for k in range(number_of_levels):\n",
    "                if k*threshold_increment <= img[i, j]< (k*threshold_increment) + threshold_increment:\n",
    "                    new_img[2 * i:(2 * i) + 2, 2 * j: (2 * j) + 2] = patterns_list[k]\n",
    "                    break\n",
    "            \n",
    "    return new_img"
   ]
  },
  {
   "cell_type": "code",
   "execution_count": 9,
   "metadata": {},
   "outputs": [
    {
     "data": {
      "text/plain": [
       "True"
      ]
     },
     "execution_count": 9,
     "metadata": {},
     "output_type": "execute_result"
    }
   ],
   "source": [
    "img = cv2.imread('./assets/gray.png', cv2.IMREAD_GRAYSCALE)\n",
    "img = skimage.img_as_float(img)\n",
    "new = dither_image(img)\n",
    "# The show function isn't very good with the result so we print it instead XD. Check the assets directory for the file 'out.png'\n",
    "cv2.imwrite('./assets/out.png', skimage.img_as_uint(new))"
   ]
  },
  {
   "cell_type": "code",
   "execution_count": 14,
   "metadata": {},
   "outputs": [],
   "source": [
    "def binary_to_str(binary):\n",
    "    try:\n",
    "        int(len(binary) / 8)\n",
    "    except Exception as e:\n",
    "        raise Exception('Binary length is not multiple of 8')\n",
    "\n",
    "    string = ''\n",
    "\n",
    "    for i in range(len(binary) // 8):\n",
    "        integer = int(''.join(binary[8 * i:8 * (i + 1)]), 2)\n",
    "        ascii_character = chr(integer)\n",
    "        string += ascii_character\n",
    "\n",
    "    return string"
   ]
  },
  {
   "cell_type": "code",
   "execution_count": 15,
   "metadata": {},
   "outputs": [],
   "source": [
    "def decode_lsb(image_path):\n",
    "    # STEP 1: Read the image\n",
    "    # STEP 2: Iterate over image row by row and get pixel value\n",
    "    # STEP 2.1: Get first channel value\n",
    "    # STEP 2.2: read last bit (EVEN or ODD)\n",
    "    # STEP 2.3: Add this bit to a list\n",
    "    # STEP 2.4: call helper method (binary_to_str) to return & print ascii_string\n",
    "\n",
    "    raise NotImplementedError('Add Your code then remove this line')"
   ]
  },
  {
   "cell_type": "code",
   "execution_count": null,
   "metadata": {},
   "outputs": [],
   "source": [
    "secret_message = decode_lsb('./assets/secret-happy-dog.png')\n",
    "    print(secret_message)"
   ]
  }
 ],
 "metadata": {
  "kernelspec": {
   "display_name": "Python 3",
   "language": "python",
   "name": "python3"
  },
  "language_info": {
   "codemirror_mode": {
    "name": "ipython",
    "version": 3
   },
   "file_extension": ".py",
   "mimetype": "text/x-python",
   "name": "python",
   "nbconvert_exporter": "python",
   "pygments_lexer": "ipython3",
   "version": "3.7.6"
  }
 },
 "nbformat": 4,
 "nbformat_minor": 2
}
